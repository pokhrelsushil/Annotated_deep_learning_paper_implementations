{
 "cells": [
  {
   "metadata": {},
   "cell_type": "code",
   "outputs": [],
   "execution_count": null,
   "source": [
    "import torch\n",
    "from torch.optim import Adam\n",
    "from torch.utils.data import DataLoader, TensorDataset\n",
    "from torch.utils.data import random_split\n",
    "from transformers import AutoTokenizer\n",
    "\n",
    "from labml import tracker, experiment\n",
    "from labml_nn.lora.gpt2 import GPTModel"
   ],
   "id": "f072832ec9d346e1"
  },
  {
   "cell_type": "code",
   "id": "initial_id",
   "metadata": {
    "collapsed": true,
    "jupyter": {
     "outputs_hidden": true
    }
   },
   "source": "# !wget https://raw.github/zusercontent.com/karpathy/char-rnn/master/data/tinyshakespeare/input.txt",
   "outputs": [],
   "execution_count": null
  },
  {
   "cell_type": "code",
   "id": "3b1e507015ba6b81",
   "metadata": {},
   "source": [
    "with open('input.txt', 'r', encoding='utf-8') as f:\n",
    "    text = f.read()"
   ],
   "outputs": [],
   "execution_count": null
  },
  {
   "cell_type": "code",
   "id": "ac8e51ae5bbfcae7",
   "metadata": {},
   "source": [
    "tokenizer = AutoTokenizer.from_pretrained(\"gpt2\")\n",
    "\n",
    "tokens = tokenizer.encode(text, add_special_tokens=False)"
   ],
   "outputs": [],
   "execution_count": null
  },
  {
   "cell_type": "code",
   "id": "aeefcdf813e427e",
   "metadata": {},
   "source": [
    "context_length = 512\n",
    "batch_size = 2"
   ],
   "outputs": [],
   "execution_count": null
  },
  {
   "cell_type": "code",
   "id": "a384b42274f008a2",
   "metadata": {},
   "source": [
    "num_batches = len(tokens) // (batch_size * context_length)\n",
    "tokens = tokens[:num_batches * batch_size * context_length]"
   ],
   "outputs": [],
   "execution_count": null
  },
  {
   "cell_type": "code",
   "id": "5c4cc78ac1a02c1d",
   "metadata": {},
   "source": "input_ids = torch.tensor(tokens).view(-1, context_length)",
   "outputs": [],
   "execution_count": null
  },
  {
   "cell_type": "code",
   "id": "7037fd75e2161382",
   "metadata": {},
   "source": [
    "dataset = TensorDataset(input_ids)\n",
    "\n",
    "train_ratio = 0.8\n",
    "test_ratio = 0.2\n",
    "\n",
    "train_size = int(train_ratio * len(dataset))\n",
    "test_size = len(dataset) - train_size\n",
    "\n",
    "train_dataset, test_dataset = random_split(dataset, [train_size, test_size])\n",
    "\n",
    "train_dataloader = DataLoader(train_dataset, batch_size=batch_size, shuffle=True)\n",
    "test_dataloader = DataLoader(test_dataset, batch_size=batch_size, shuffle=False)"
   ],
   "outputs": [],
   "execution_count": null
  },
  {
   "cell_type": "code",
   "id": "a98b7baa064b8494",
   "metadata": {},
   "source": [
    "model = GPTModel()\n",
    "state_dict = torch.load('transformed.pth', weights_only=True)\n",
    "\n",
    "_ = model.load_state_dict(state_dict, strict=False)"
   ],
   "outputs": [],
   "execution_count": null
  },
  {
   "metadata": {},
   "cell_type": "code",
   "source": [
    "device = \"cuda\"\n",
    "model = model.to(device=\"cuda\")"
   ],
   "id": "2e0fa8b3082df716",
   "outputs": [],
   "execution_count": null
  },
  {
   "cell_type": "code",
   "id": "e2f5076894770740",
   "metadata": {},
   "source": [
    "optimizer = Adam(model.parameters(), lr=5e-5)\n",
    "criterion = torch.nn.CrossEntropyLoss()\n",
    "\n",
    "model.train()\n",
    "epochs = 3\n",
    "step = 0\n",
    "\n",
    "with experiment.record(name='LoRA.GPT2', app_url='http://localhost:5005/api/v1/track'):\n",
    "    for epoch in range(epochs):\n",
    "        for batch in train_dataloader:\n",
    "            inputs = batch[0]\n",
    "            inputs = inputs.to(device)\n",
    "            labels = inputs.clone()\n",
    "\n",
    "            outputs = model(inputs)\n",
    "\n",
    "            shift_logits = outputs[..., :-1, :]\n",
    "            shift_labels = labels[..., 1:]\n",
    "\n",
    "            loss = criterion(shift_logits.reshape(-1, shift_logits.size(-1)), shift_labels.reshape(-1))\n",
    "\n",
    "            optimizer.zero_grad()\n",
    "            loss.backward()\n",
    "            optimizer.step()\n",
    "\n",
    "            tracker.save(step, {'loss': loss})\n",
    "            step += 1\n",
    "        print(f'Epoch: {epoch + 1}, Loss: {loss.item()}')\n",
    "\n",
    "        test_loss = 0\n",
    "        for batch in test_dataloader:\n",
    "            inputs = batch[0]\n",
    "            inputs = inputs.to(device)\n",
    "            labels = inputs.clone()\n",
    "\n",
    "            outputs = model(inputs)\n",
    "\n",
    "            shift_logits = outputs[..., :-1, :]\n",
    "            shift_labels = labels[..., 1:]\n",
    "\n",
    "            loss = criterion(shift_logits.reshape(-1, shift_logits.size(-1)), shift_labels.reshape(-1))\n",
    "\n",
    "            test_loss += loss.item()\n",
    "        test_loss /= len(test_dataloader)\n",
    "        tracker.save(step, {'test_loss': test_loss})\n",
    "\n",
    "print(\"Training complete.\")"
   ],
   "outputs": [],
   "execution_count": null
  },
  {
   "cell_type": "code",
   "id": "da2d4023002648dc",
   "metadata": {},
   "source": [],
   "outputs": [],
   "execution_count": null
  }
 ],
 "metadata": {
  "kernelspec": {
   "display_name": "base",
   "language": "python",
   "name": "base"
  },
  "language_info": {
   "codemirror_mode": {
    "name": "ipython",
    "version": 3
   },
   "file_extension": ".py",
   "mimetype": "text/x-python",
   "name": "python",
   "nbconvert_exporter": "python",
   "pygments_lexer": "ipython3",
   "version": "3.12.4"
  }
 },
 "nbformat": 4,
 "nbformat_minor": 5
}
